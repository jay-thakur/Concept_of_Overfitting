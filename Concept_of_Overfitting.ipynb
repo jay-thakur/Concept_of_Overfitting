{
  "nbformat": 4,
  "nbformat_minor": 0,
  "metadata": {
    "colab": {
      "name": "Concept_of_Overfitting.ipynb",
      "provenance": [],
      "mount_file_id": "1mDHwDYu2Kzo3vUYWxtXSogC7NNcy_4fK",
      "authorship_tag": "ABX9TyNCBDzEMkigYRSa+wKj68ps",
      "include_colab_link": true
    },
    "kernelspec": {
      "name": "python3",
      "display_name": "Python 3"
    },
    "language_info": {
      "name": "python"
    }
  },
  "cells": [
    {
      "cell_type": "markdown",
      "metadata": {
        "id": "view-in-github",
        "colab_type": "text"
      },
      "source": [
        "<a href=\"https://colab.research.google.com/github/jay-thakur/Concept_of_Overfitting/blob/main/Concept_of_Overfitting.ipynb\" target=\"_parent\"><img src=\"https://colab.research.google.com/assets/colab-badge.svg\" alt=\"Open In Colab\"/></a>"
      ]
    },
    {
      "cell_type": "code",
      "metadata": {
        "id": "DcRpGFveDGVo"
      },
      "source": [
        "# import libraries\n",
        "\n",
        "import numpy as np\n",
        "import matplotlib.pyplot as plt\n",
        "%matplotlib inline\n",
        "\n",
        "import pandas as pd\n",
        "\n",
        "from sklearn.preprocessing import PolynomialFeatures\n",
        "from sklearn.pipeline import make_pipeline\n",
        "from sklearn.linear_model import LinearRegression\n",
        "from sklearn.model_selection import train_test_split\n",
        "from sklearn.metrics import mean_squared_error"
      ],
      "execution_count": 18,
      "outputs": []
    },
    {
      "cell_type": "markdown",
      "metadata": {
        "id": "IjWjmI13yQcg"
      },
      "source": [
        "Simple Linear Regression\n",
        "\n",
        "Multiple Linear Regression\n",
        "\n",
        "Polynomial Linear Regression\n"
      ]
    },
    {
      "cell_type": "markdown",
      "metadata": {
        "id": "AL2zC2xb7izl"
      },
      "source": [
        "# Linear Regression with Polynomial Features"
      ]
    },
    {
      "cell_type": "code",
      "metadata": {
        "id": "0uS9Rokuh01C"
      },
      "source": [
        "np.random.seed(101)\n",
        "\n",
        "# 20 data points\n",
        "n_samples = 20\n",
        "\n",
        "# polynomila degrees\n",
        "degrees = [0, 1, 3, 9]"
      ],
      "execution_count": 19,
      "outputs": []
    },
    {
      "cell_type": "code",
      "metadata": {
        "id": "MbOXIdao7mTt",
        "colab": {
          "base_uri": "https://localhost:8080/"
        },
        "outputId": "2f831ac8-d6b3-4349-cefd-5eb9b41df3c5"
      },
      "source": [
        "# Use uniform distribution between 0 and 1 for X\n",
        "# X = np.sort(np.random.rand(0, 1, n_samples))\n",
        "# print(X)\n",
        "# X = np.random.uniform(0,1,20)\n",
        "# X = np.sort(np.random.rand(n_samples))\n",
        "# print(X)\n",
        "# X = np.sort(np.random.uniform(0, 1, 20))\n",
        "X = np.sort(np.random.uniform(0, 1, 20))\n",
        "X"
      ],
      "execution_count": 20,
      "outputs": [
        {
          "output_type": "execute_result",
          "data": {
            "text/plain": [
              "array([0.02847423, 0.08356143, 0.17152166, 0.1818924 , 0.18993895,\n",
              "       0.23235366, 0.27623883, 0.30696622, 0.35213195, 0.51639863,\n",
              "       0.55422759, 0.57066759, 0.60354842, 0.68527698, 0.72154386,\n",
              "       0.72899276, 0.78560176, 0.83389686, 0.89361308, 0.96548322])"
            ]
          },
          "metadata": {
            "tags": []
          },
          "execution_count": 20
        }
      ]
    },
    {
      "cell_type": "code",
      "metadata": {
        "colab": {
          "base_uri": "https://localhost:8080/"
        },
        "id": "vOtwFV-LkY1E",
        "outputId": "7b2f13f4-e5aa-4e7d-beda-1c8fd5c10d58"
      },
      "source": [
        "# Sample N from the normal gaussian distribution \n",
        "N = np.sort(np.random.normal(X))\n",
        "print(N)\n",
        "\n",
        "# from sklearn.preprocessing import MinMaxScaler\n",
        "# scaler = MinMaxScaler()\n",
        "# N_scaled = scaler.fit_transform(N.reshape(-1, 1))\n",
        "# print(N_scaled)\n",
        "# print(len(N_scaled))\n",
        "# N = np.random.normal(n_samples)\n",
        "# N\n",
        "\n"
      ],
      "execution_count": 21,
      "outputs": [
        {
          "output_type": "stream",
          "text": [
            "[-1.4298471  -0.8521532  -0.04979332  0.07982716  0.21729123  0.21926855\n",
            "  0.28849774  0.4926044   0.72113223  0.75516945  0.75823666  0.86540129\n",
            "  0.90692647  1.05863906  1.36033088  1.41125434  1.45023487  1.92607659\n",
            "  2.06231876  2.77748894]\n"
          ],
          "name": "stdout"
        }
      ]
    },
    {
      "cell_type": "code",
      "metadata": {
        "id": "W7kJ50YtMtPu"
      },
      "source": [
        "def true_fun(X):\n",
        "  return np.sin(2*np.pi*X)"
      ],
      "execution_count": 22,
      "outputs": []
    },
    {
      "cell_type": "code",
      "metadata": {
        "colab": {
          "base_uri": "https://localhost:8080/"
        },
        "id": "XULFcIPNeCRd",
        "outputId": "ac58ee12-9a29-4780-8a8e-f3826fa36588"
      },
      "source": [
        "#y = sin(2*pi*X) + N \n",
        "y = true_fun(X) + 0.1 * N\n",
        "y\n",
        "\n",
        "# y_scaled = scaler.fit_transform(y)\n",
        "# print(y_scaled)\n",
        "# print(len(y_scaled))"
      ],
      "execution_count": 23,
      "outputs": [
        {
          "output_type": "execute_result",
          "data": {
            "text/plain": [
              "array([ 0.03497123,  0.41602535,  0.8758932 ,  0.91780834,  0.95136434,\n",
              "        1.01578649,  1.01529055,  0.98588471,  0.87318421, -0.02733646,\n",
              "       -0.25834401, -0.34303077, -0.51498238, -0.8125805 , -0.84802559,\n",
              "       -0.85017621, -0.83006151, -0.67164194, -0.41353745,  0.06256971])"
            ]
          },
          "metadata": {
            "tags": []
          },
          "execution_count": 23
        }
      ]
    },
    {
      "cell_type": "code",
      "metadata": {
        "colab": {
          "base_uri": "https://localhost:8080/",
          "height": 343
        },
        "id": "hQl23USQPUW4",
        "outputId": "9555c4bf-aa61-4198-eb05-040f3f6cf7f9"
      },
      "source": [
        "# plotting dataset\n",
        "plt.figure(figsize=(10,5))\n",
        "plt.scatter(X,y)\n",
        "plt.xlabel('X',fontsize=16)\n",
        "plt.ylabel('y',fontsize=16)\n",
        "plt.xlim((0, 1))\n",
        "plt.ylim((0, 1))\n",
        "plt.show()"
      ],
      "execution_count": 24,
      "outputs": [
        {
          "output_type": "display_data",
          "data": {
            "image/png": "[encoded data removed]",
            "text/plain": [
              "<Figure size 720x360 with 1 Axes>"
            ]
          },
          "metadata": {
            "tags": [],
            "needs_background": "light"
          }
        }
      ]
    },
    {
      "cell_type": "code",
      "metadata": {
        "colab": {
          "base_uri": "https://localhost:8080/"
        },
        "id": "Sp75CUw0k2LO",
        "outputId": "c9c2f7e5-80ae-4694-c44d-6fee2ac63866"
      },
      "source": [
        "X_train, X_test, y_train, y_test = train_test_split(X, y, test_size=0.5)\n",
        "print(X_train)\n",
        "print(X_train.shape)\n",
        "print(y_train)\n",
        "print(y_train.shape)\n",
        "\n",
        "print(X_test)\n",
        "print(X_test.shape)\n",
        "print(y_test)\n",
        "print(y_test.shape)"
      ],
      "execution_count": 25,
      "outputs": [
        {
          "output_type": "stream",
          "text": [
            "[0.55422759 0.60354842 0.17152166 0.68527698 0.51639863 0.27623883\n",
            " 0.23235366 0.72899276 0.72154386 0.35213195]\n",
            "(10,)\n",
            "[-0.25834401 -0.51498238  0.8758932  -0.8125805  -0.02733646  1.01529055\n",
            "  1.01578649 -0.85017621 -0.84802559  0.87318421]\n",
            "(10,)\n",
            "[0.89361308 0.02847423 0.57066759 0.78560176 0.30696622 0.83389686\n",
            " 0.96548322 0.18993895 0.1818924  0.08356143]\n",
            "(10,)\n",
            "[-0.41353745  0.03497123 -0.34303077 -0.83006151  0.98588471 -0.67164194\n",
            "  0.06256971  0.95136434  0.91780834  0.41602535]\n",
            "(10,)\n"
          ],
          "name": "stdout"
        }
      ]
    },
    {
      "cell_type": "code",
      "metadata": {
        "colab": {
          "base_uri": "https://localhost:8080/",
          "height": 269
        },
        "id": "Jf-XZ3bDlys5",
        "outputId": "af6bf3a3-cac0-4af6-bb37-da580af0c4bc"
      },
      "source": [
        "model = LinearRegression()\n",
        "model.fit(X_train.reshape(-1, 1), y_train)\n",
        "y_pred = model.predict(X_train.reshape(-1, 1))\n",
        "\n",
        "plt.scatter(X_train, y_train, s=10)\n",
        "plt.plot(X_train, y_pred, color='r')\n",
        "plt.xlim((0, 1))\n",
        "plt.ylim((0, 1))\n",
        "plt.show()"
      ],
      "execution_count": 26,
      "outputs": [
        {
          "output_type": "display_data",
          "data": {
            "image/png": "[encoded data removed]",
            "text/plain": [
              "<Figure size 432x288 with 1 Axes>"
            ]
          },
          "metadata": {
            "tags": [],
            "needs_background": "light"
          }
        }
      ]
    },
    {
      "cell_type": "code",
      "metadata": {
        "id": "F_v_3j51QgBJ",
        "colab": {
          "base_uri": "https://localhost:8080/"
        },
        "outputId": "1ed3a2fc-dd50-459b-c1ad-b4d770ac5934"
      },
      "source": [
        "degree = 0\n",
        "pipeline = make_pipeline(PolynomialFeatures(degree),LinearRegression())\n",
        "pipeline.fit(X_train[:, np.newaxis], y_train)\n",
        "\n",
        "preds = pipeline.predict(X_test[:, np.newaxis])\n",
        "preds.shape\n",
        "# preds"
      ],
      "execution_count": 27,
      "outputs": [
        {
          "output_type": "execute_result",
          "data": {
            "text/plain": [
              "(10,)"
            ]
          },
          "metadata": {
            "tags": []
          },
          "execution_count": 27
        }
      ]
    },
    {
      "cell_type": "code",
      "metadata": {
        "colab": {
          "base_uri": "https://localhost:8080/"
        },
        "id": "B5-2nGNTU-Dt",
        "outputId": "7d1dd35d-950b-4640-d05d-e2f3a9a7be0b"
      },
      "source": [
        "coefs = np.polyfit(X_train.flatten(), y_train.flatten(), degree)\n",
        "coefs"
      ],
      "execution_count": 28,
      "outputs": [
        {
          "output_type": "execute_result",
          "data": {
            "text/plain": [
              "array([0.04687093])"
            ]
          },
          "metadata": {
            "tags": []
          },
          "execution_count": 28
        }
      ]
    },
    {
      "cell_type": "code",
      "metadata": {
        "colab": {
          "base_uri": "https://localhost:8080/",
          "height": 295
        },
        "id": "yum-9CiFj29O",
        "outputId": "3582b110-b5d1-4b67-e51a-0c46b3b109ea"
      },
      "source": [
        "plt.scatter(X_train, y_train, s=10)\n",
        "plt.plot(X_test, preds, color='m')\n",
        "plt.title('When order, M=0')\n",
        "plt.xlabel('X')\n",
        "plt.ylabel('y=sin(2*pi*X)+N')\n",
        "plt.xlim((0, 1))\n",
        "plt.ylim((0, 1))\n",
        "plt.show()"
      ],
      "execution_count": 29,
      "outputs": [
        {
          "output_type": "display_data",
          "data": {
            "image/png": "[encoded data removed]",
            "text/plain": [
              "<Figure size 432x288 with 1 Axes>"
            ]
          },
          "metadata": {
            "tags": [],
            "needs_background": "light"
          }
        }
      ]
    },
    {
      "cell_type": "code",
      "metadata": {
        "colab": {
          "base_uri": "https://localhost:8080/",
          "height": 312
        },
        "id": "eGMKDEgHm1X3",
        "outputId": "b0e44f66-8f8a-470e-cf8c-688ecc8a8abd"
      },
      "source": [
        "degree = 1\n",
        "pipeline = make_pipeline(PolynomialFeatures(degree),LinearRegression())\n",
        "pipeline.fit(X_train[:, np.newaxis], y_train)\n",
        "\n",
        "preds = pipeline.predict(X_test[:, np.newaxis])\n",
        "\n",
        "coefs = np.polyfit(X_train.flatten(), y_train.flatten(), degree)\n",
        "print(coefs)\n",
        "\n",
        "plt.scatter(X_train, y_train, s=10)\n",
        "plt.plot(X_test, preds, color='m')\n",
        "plt.title('When order, M=1')\n",
        "plt.xlabel('X')\n",
        "plt.ylabel('y=sin(2*pi*X)+N')\n",
        "plt.xlim((0, 1))\n",
        "plt.ylim((0, 1))\n",
        "plt.show()\n"
      ],
      "execution_count": 30,
      "outputs": [
        {
          "output_type": "stream",
          "text": [
            "[-3.78522444  1.87976531]\n"
          ],
          "name": "stdout"
        },
        {
          "output_type": "display_data",
          "data": {
            "image/png": "[encoded data removed]",
            "text/plain": [
              "<Figure size 432x288 with 1 Axes>"
            ]
          },
          "metadata": {
            "tags": [],
            "needs_background": "light"
          }
        }
      ]
    },
    {
      "cell_type": "code",
      "metadata": {
        "colab": {
          "base_uri": "https://localhost:8080/",
          "height": 312
        },
        "id": "TkAR6uqMnHVl",
        "outputId": "319cb50c-f0ea-4cfa-f07d-44a7b198c2b1"
      },
      "source": [
        "degree = 3\n",
        "pipeline = make_pipeline(PolynomialFeatures(degree),LinearRegression())\n",
        "pipeline.fit(X_train[:, np.newaxis], y_train)\n",
        "\n",
        "preds = pipeline.predict(X_test[:, np.newaxis])\n",
        "\n",
        "coefs = np.polyfit(X_train.flatten(), y_train.flatten(), degree)\n",
        "print(coefs)\n",
        "\n",
        "plt.scatter(X_train, y_train, s=10)\n",
        "plt.plot(X_test, preds, color='m')\n",
        "plt.title('When order, M=3')\n",
        "plt.xlabel('X')\n",
        "plt.ylabel('y=sin(2*pi*X)+N')\n",
        "plt.xlim((0, 1))\n",
        "plt.ylim((0, 1))\n",
        "plt.show()"
      ],
      "execution_count": 31,
      "outputs": [
        {
          "output_type": "stream",
          "text": [
            "[ 34.36282015 -50.97314859  19.25487808  -1.1169383 ]\n"
          ],
          "name": "stdout"
        },
        {
          "output_type": "display_data",
          "data": {
            "image/png": "[encoded data removed]",
            "text/plain": [
              "<Figure size 432x288 with 1 Axes>"
            ]
          },
          "metadata": {
            "tags": [],
            "needs_background": "light"
          }
        }
      ]
    },
    {
      "cell_type": "code",
      "metadata": {
        "colab": {
          "base_uri": "https://localhost:8080/",
          "height": 346
        },
        "id": "T0P8WtgsnRz2",
        "outputId": "f03d8ac7-b820-45e2-c3e0-45edc1e227cf"
      },
      "source": [
        "degree = 9\n",
        "pipeline = make_pipeline(PolynomialFeatures(degree),LinearRegression())\n",
        "pipeline.fit(X_train[:, np.newaxis], y_train)\n",
        "\n",
        "preds = pipeline.predict(X_test[:, np.newaxis])\n",
        "\n",
        "coefs = np.polyfit(X_train.flatten(), y_train.flatten(), degree)\n",
        "print(coefs)\n",
        "\n",
        "plt.scatter(X_train, y_train, s=10)\n",
        "plt.plot(X_test, preds, color='m')\n",
        "plt.title('When order, M=9')\n",
        "plt.xlabel('X')\n",
        "plt.ylabel('y=sin(2*pi*X)+N')\n",
        "plt.xlim((0, 1))\n",
        "plt.ylim((0, 1))\n",
        "plt.show()"
      ],
      "execution_count": 32,
      "outputs": [
        {
          "output_type": "stream",
          "text": [
            "[-1.83975171e+05  7.64474210e+05 -1.37587594e+06  1.40436874e+06\n",
            " -8.93808438e+05  3.67074383e+05 -9.70989966e+04  1.59103742e+04\n",
            " -1.45932541e+03  5.77574529e+01]\n"
          ],
          "name": "stdout"
        },
        {
          "output_type": "display_data",
          "data": {
            "image/png": "[encoded data removed]",
            "text/plain": [
              "<Figure size 432x288 with 1 Axes>"
            ]
          },
          "metadata": {
            "tags": [],
            "needs_background": "light"
          }
        }
      ]
    },
    {
      "cell_type": "markdown",
      "metadata": {
        "id": "HcsCcWmrnlpO"
      },
      "source": [
        "## Displaying weights in Table "
      ]
    },
    {
      "cell_type": "code",
      "metadata": {
        "id": "swda0g2EiMfk",
        "colab": {
          "base_uri": "https://localhost:8080/",
          "height": 359
        },
        "outputId": "c49f2433-ca91-4b1b-8d4f-b1911cc0d352"
      },
      "source": [
        "weights = []\n",
        "M0 = [0,\"\",\"\",\"\",\"\",\"\",\"\",\"\",\"\",\"\" ]\n",
        "M1 = [0,-0.39012766,\"\",\"\",\"\",\"\",\"\",\"\",\"\",\"\"]\n",
        "M3 = [0,-0.72768993,2.11420232,-1.986349090,\"\",\"\",\"\",\"\",\"\",\"\"]\n",
        "M9 =[0,-32.42123625,630.43839794,-4652.54557797, 16038.92928046, -26616.73893602,16020.44924781,9291.87084083,-16637.65286273,5956.51875661]\n",
        "\n",
        "# weights = {'M=0': weights['M0'], 'M=1': weights['M1'], 'M=3': weights['M3'], 'M=9': weights['M9']}\n",
        "weights = {'M = 0': M0, 'M = 1': M1, 'M = 3': M3, 'M = 9': M9}\n",
        "indexes = ['w0', 'w1', 'w2', 'w3', 'w4', 'w5', 'w6', 'w7', 'w8', 'w9']\n",
        "weights_df = pd.DataFrame(weights, index=indexes)\n",
        "weights_df"
      ],
      "execution_count": 33,
      "outputs": [
        {
          "output_type": "execute_result",
          "data": {
            "text/html": [
              "<div>\n",
              "<style scoped>\n",
              "    .dataframe tbody tr th:only-of-type {\n",
              "        vertical-align: middle;\n",
              "    }\n",
              "\n",
              "    .dataframe tbody tr th {\n",
              "        vertical-align: top;\n",
              "    }\n",
              "\n",
              "    .dataframe thead th {\n",
              "        text-align: right;\n",
              "    }\n",
              "</style>\n",
              "<table border=\"1\" class=\"dataframe\">\n",
              "  <thead>\n",
              "    <tr style=\"text-align: right;\">\n",
              "      <th></th>\n",
              "      <th>M = 0</th>\n",
              "      <th>M = 1</th>\n",
              "      <th>M = 3</th>\n",
              "      <th>M = 9</th>\n",
              "    </tr>\n",
              "  </thead>\n",
              "  <tbody>\n",
              "    <tr>\n",
              "      <th>w0</th>\n",
              "      <td>0</td>\n",
              "      <td>0</td>\n",
              "      <td>0</td>\n",
              "      <td>0.000000</td>\n",
              "    </tr>\n",
              "    <tr>\n",
              "      <th>w1</th>\n",
              "      <td></td>\n",
              "      <td>-0.390128</td>\n",
              "      <td>-0.72769</td>\n",
              "      <td>-32.421236</td>\n",
              "    </tr>\n",
              "    <tr>\n",
              "      <th>w2</th>\n",
              "      <td></td>\n",
              "      <td></td>\n",
              "      <td>2.1142</td>\n",
              "      <td>630.438398</td>\n",
              "    </tr>\n",
              "    <tr>\n",
              "      <th>w3</th>\n",
              "      <td></td>\n",
              "      <td></td>\n",
              "      <td>-1.98635</td>\n",
              "      <td>-4652.545578</td>\n",
              "    </tr>\n",
              "    <tr>\n",
              "      <th>w4</th>\n",
              "      <td></td>\n",
              "      <td></td>\n",
              "      <td></td>\n",
              "      <td>16038.929280</td>\n",
              "    </tr>\n",
              "    <tr>\n",
              "      <th>w5</th>\n",
              "      <td></td>\n",
              "      <td></td>\n",
              "      <td></td>\n",
              "      <td>-26616.738936</td>\n",
              "    </tr>\n",
              "    <tr>\n",
              "      <th>w6</th>\n",
              "      <td></td>\n",
              "      <td></td>\n",
              "      <td></td>\n",
              "      <td>16020.449248</td>\n",
              "    </tr>\n",
              "    <tr>\n",
              "      <th>w7</th>\n",
              "      <td></td>\n",
              "      <td></td>\n",
              "      <td></td>\n",
              "      <td>9291.870841</td>\n",
              "    </tr>\n",
              "    <tr>\n",
              "      <th>w8</th>\n",
              "      <td></td>\n",
              "      <td></td>\n",
              "      <td></td>\n",
              "      <td>-16637.652863</td>\n",
              "    </tr>\n",
              "    <tr>\n",
              "      <th>w9</th>\n",
              "      <td></td>\n",
              "      <td></td>\n",
              "      <td></td>\n",
              "      <td>5956.518757</td>\n",
              "    </tr>\n",
              "  </tbody>\n",
              "</table>\n",
              "</div>"
            ],
            "text/plain": [
              "   M = 0     M = 1    M = 3         M = 9\n",
              "w0     0         0        0      0.000000\n",
              "w1       -0.390128 -0.72769    -32.421236\n",
              "w2                   2.1142    630.438398\n",
              "w3                 -1.98635  -4652.545578\n",
              "w4                           16038.929280\n",
              "w5                          -26616.738936\n",
              "w6                           16020.449248\n",
              "w7                            9291.870841\n",
              "w8                          -16637.652863\n",
              "w9                            5956.518757"
            ]
          },
          "metadata": {
            "tags": []
          },
          "execution_count": 33
        }
      ]
    },
    {
      "cell_type": "markdown",
      "metadata": {
        "id": "MWwxGoi7yiWx"
      },
      "source": [
        "## Train Error vs Test Error"
      ]
    },
    {
      "cell_type": "code",
      "metadata": {
        "id": "_FusQSFRzJwG"
      },
      "source": [
        "# for m in range(0, 9):\n",
        "  "
      ],
      "execution_count": 34,
      "outputs": []
    },
    {
      "cell_type": "markdown",
      "metadata": {
        "id": "0bmCoHfc1Ew2"
      },
      "source": [
        "### Now generate 100 more data and fit 9th order model and draw fit"
      ]
    },
    {
      "cell_type": "code",
      "metadata": {
        "id": "Nv4R-RAQ1FXG"
      },
      "source": [
        ""
      ],
      "execution_count": 34,
      "outputs": []
    },
    {
      "cell_type": "markdown",
      "metadata": {
        "id": "5Mg77NqF05je"
      },
      "source": [
        "### Now we will regularize using the sum of weights."
      ]
    },
    {
      "cell_type": "code",
      "metadata": {
        "id": "FqiF8GQ41DJa"
      },
      "source": [
        ""
      ],
      "execution_count": 34,
      "outputs": []
    },
    {
      "cell_type": "markdown",
      "metadata": {
        "id": "QblRTnEL0TJh"
      },
      "source": [
        "### Draw chart for lambda is 1, 1/10, 1/100, 1/1000, 1/10000, 1/100000 "
      ]
    },
    {
      "cell_type": "code",
      "metadata": {
        "id": "hoizoi4k0mau"
      },
      "source": [
        ""
      ],
      "execution_count": 34,
      "outputs": []
    },
    {
      "cell_type": "markdown",
      "metadata": {
        "id": "HSsbIhrp0dK_"
      },
      "source": [
        "### Now draw test  and train error according to lamda = 1, 1/10, 1/100, 1/1000, 1/10000, 1/100000 "
      ]
    },
    {
      "cell_type": "code",
      "metadata": {
        "id": "vB4wvnXI0nFh"
      },
      "source": [
        ""
      ],
      "execution_count": 34,
      "outputs": []
    },
    {
      "cell_type": "markdown",
      "metadata": {
        "id": "b6hu4JKf0vOl"
      },
      "source": [
        "### Best Model (According to test performance)"
      ]
    },
    {
      "cell_type": "code",
      "metadata": {
        "id": "c4GDVOSg0zy_"
      },
      "source": [
        ""
      ],
      "execution_count": 34,
      "outputs": []
    },
    {
      "cell_type": "markdown",
      "metadata": {
        "id": "grvF0cmJiOid"
      },
      "source": [
        "# References\n",
        "\n",
        "https://scikit-learn.org/stable/auto_examples/model_selection/plot_underfitting_overfitting.html\n"
      ]
    },
    {
      "cell_type": "code",
      "metadata": {
        "id": "J-rLtiKViCDN"
      },
      "source": [
        ""
      ],
      "execution_count": 34,
      "outputs": []
    }
  ]
}